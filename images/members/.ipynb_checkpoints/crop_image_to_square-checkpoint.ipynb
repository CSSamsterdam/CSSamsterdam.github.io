{
 "cells": [
  {
   "cell_type": "code",
   "execution_count": 110,
   "metadata": {},
   "outputs": [],
   "source": [
    "# crop image\n",
    "from PIL import Image\n",
    "import glob\n",
    "\n",
    "width = 600"
   ]
  },
  {
   "cell_type": "code",
   "execution_count": 111,
   "metadata": {},
   "outputs": [
    {
     "name": "stdout",
     "output_type": "stream",
     "text": [
      "['annakeuchenius.png', 'annakeuchenius_squared.png', 'eelkeheemskerk_squared.png', 'ilsepit.jpg']\n"
     ]
    }
   ],
   "source": [
    "images = glob.glob(\"*.png\")\n",
    "images.extend(glob.glob(\"*.jpg\"))\n",
    "images.extend(glob.glob(\"*.jpeg\"))\n",
    "\n",
    "print(images)"
   ]
  },
  {
   "cell_type": "code",
   "execution_count": 117,
   "metadata": {},
   "outputs": [],
   "source": [
    "for file_name in images:\n",
    "    if \"_squared\" not in file_name:\n",
    "        im = Image.open(file_name)\n",
    "        w, h = im.size\n",
    "        if w!=h:\n",
    "            if w<h:\n",
    "                width = w\n",
    "            else:\n",
    "                widht = h\n",
    "            cropped_img = im.crop((w//2 - width//2, h//2 - width//2, w//2 + width//2, h//2 + width//2))\n",
    "\n",
    "        else:\n",
    "            cropped_img = im\n",
    "        file_name = file_name.replace(\".png\", '')\n",
    "        file_name = file_name.replace(\".jpg\", '')\n",
    "        file_name = file_name.replace(\".jpeg\", '')\n",
    "#         cropped_img.show()\n",
    "        cropped_img.save(file_name + '_squared.png')"
   ]
  },
  {
   "cell_type": "code",
   "execution_count": 56,
   "metadata": {},
   "outputs": [],
   "source": []
  },
  {
   "cell_type": "code",
   "execution_count": 57,
   "metadata": {},
   "outputs": [],
   "source": []
  },
  {
   "cell_type": "code",
   "execution_count": null,
   "metadata": {},
   "outputs": [],
   "source": []
  }
 ],
 "metadata": {
  "kernelspec": {
   "display_name": "Python 3",
   "language": "python",
   "name": "python3"
  },
  "language_info": {
   "codemirror_mode": {
    "name": "ipython",
    "version": 2
   },
   "file_extension": ".py",
   "mimetype": "text/x-python",
   "name": "python",
   "nbconvert_exporter": "python",
   "pygments_lexer": "ipython2",
   "version": "2.7.12"
  }
 },
 "nbformat": 4,
 "nbformat_minor": 2
}
