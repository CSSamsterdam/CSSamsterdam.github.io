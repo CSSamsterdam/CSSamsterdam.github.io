{
 "cells": [
  {
   "cell_type": "code",
   "execution_count": 179,
   "metadata": {},
   "outputs": [],
   "source": [
    "# crop image\n",
    "from PIL import Image\n",
    "import glob\n",
    "\n",
    "width = 600"
   ]
  },
  {
   "cell_type": "code",
   "execution_count": 180,
   "metadata": {},
   "outputs": [
    {
     "name": "stdout",
     "output_type": "stream",
     "text": [
      "['dilariavaleeva_squared.png', 'pettertornberg_squared.png', 'pettertornberg.png', 'johnboy_squared.png', 'annakeuchenius.png', 'javiergarcia_squared.png', 'jeroenbruggeman_squared.png', 'susanvermeer.png', 'ilsepit_squared.png', 'susanvermeer_squared.png', 'jonashaslbeck_squared.png', 'sebastiankrapohl.png', 'annakeuchenius_squared.png', 'ellisaizenberg_squared.png', 'eelkeheemskerk_squared.png', 'sebastiankrapohl_squared.png', 'ellisaizenberg.png', 'jeroenbruggeman.jpg', 'dilariavaleeva.jpg', 'damiantrilling.jpg', 'damiantrilling_squared.jpg', 'jeroenbruggeman_squared.jpg', 'ilsepit_squared.jpg', 'dilariavaleeva_squared.jpg', 'ilsepit.jpg', 'sandervanhaperen.jpeg', 'johnboy.jpeg', 'franktakes.jpeg', 'jonashaslbeck.jpeg', 'johnboy_squared.jpeg', 'javiergarcia_squared.jpeg', 'javiergarcia.jpeg', 'jonashaslbeck_squared.jpeg', 'sandervanhaperen_squared.jpeg', 'franktakes_squared.jpeg', 'textanalysis.jpeg']\n"
     ]
    }
   ],
   "source": [
    "images = glob.glob(\"*.png\")\n",
    "images.extend(glob.glob(\"*.jpg\"))\n",
    "images.extend(glob.glob(\"*.jpeg\"))\n",
    "\n",
    "print(images)"
   ]
  },
  {
   "cell_type": "code",
   "execution_count": 181,
   "metadata": {},
   "outputs": [],
   "source": [
    "for file_name in images:\n",
    "    if \"_squared\" not in file_name:\n",
    "        im = Image.open(file_name)\n",
    "        w, h = im.size\n",
    "        if w!=h:\n",
    "            if w<h:\n",
    "                width = w\n",
    "            else:\n",
    "                width = h\n",
    "            cropped_img = im.crop((w//2 - width//2, h//2 - width//2, w//2 + width//2, h//2 + width//2))\n",
    "\n",
    "        else:\n",
    "            cropped_img = im\n",
    "        file_name = file_name.replace(\".png\", '_squared.png')\n",
    "        file_name = file_name.replace(\".jpg\", '_squared.jpg')\n",
    "        file_name = file_name.replace(\".jpeg\", '_squared.jpeg')\n",
    "#         cropped_img.show()\n",
    "        cropped_img.save(file_name)"
   ]
  },
  {
   "cell_type": "code",
   "execution_count": null,
   "metadata": {},
   "outputs": [],
   "source": []
  },
  {
   "cell_type": "code",
   "execution_count": 57,
   "metadata": {},
   "outputs": [],
   "source": []
  },
  {
   "cell_type": "code",
   "execution_count": null,
   "metadata": {},
   "outputs": [],
   "source": []
  }
 ],
 "metadata": {
  "kernelspec": {
   "display_name": "Python 3",
   "language": "python",
   "name": "python3"
  },
  "language_info": {
   "codemirror_mode": {
    "name": "ipython",
    "version": 2
   },
   "file_extension": ".py",
   "mimetype": "text/x-python",
   "name": "python",
   "nbconvert_exporter": "python",
   "pygments_lexer": "ipython2",
   "version": "2.7.12"
  }
 },
 "nbformat": 4,
 "nbformat_minor": 2
}
